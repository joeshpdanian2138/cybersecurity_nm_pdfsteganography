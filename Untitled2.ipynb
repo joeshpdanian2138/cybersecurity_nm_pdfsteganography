{
  "nbformat": 4,
  "nbformat_minor": 0,
  "metadata": {
    "colab": {
      "provenance": []
    },
    "kernelspec": {
      "name": "python3",
      "display_name": "Python 3"
    },
    "language_info": {
      "name": "python"
    }
  },
  "cells": [
    {
      "cell_type": "code",
      "execution_count": 1,
      "metadata": {
        "colab": {
          "base_uri": "https://localhost:8080/"
        },
        "id": "FQnXA2LIC2Mn",
        "outputId": "76f402e8-d797-4070-d1b5-8d45996f2287"
      },
      "outputs": [
        {
          "output_type": "stream",
          "name": "stdout",
          "text": [
            "Collecting pdf2image\n",
            "  Downloading pdf2image-1.17.0-py3-none-any.whl (11 kB)\n",
            "Requirement already satisfied: pillow in /usr/local/lib/python3.10/dist-packages (from pdf2image) (9.4.0)\n",
            "Installing collected packages: pdf2image\n",
            "Successfully installed pdf2image-1.17.0\n"
          ]
        }
      ],
      "source": [
        "!pip install pdf2image"
      ]
    },
    {
      "cell_type": "code",
      "source": [
        "!apt-get install poppler-utils"
      ],
      "metadata": {
        "colab": {
          "base_uri": "https://localhost:8080/"
        },
        "id": "X9FgXx7hDTDw",
        "outputId": "a9155997-7c6b-4e50-a402-34db9267947f"
      },
      "execution_count": 3,
      "outputs": [
        {
          "output_type": "stream",
          "name": "stdout",
          "text": [
            "Reading package lists... Done\n",
            "Building dependency tree... Done\n",
            "Reading state information... Done\n",
            "The following NEW packages will be installed:\n",
            "  poppler-utils\n",
            "0 upgraded, 1 newly installed, 0 to remove and 45 not upgraded.\n",
            "Need to get 186 kB of archives.\n",
            "After this operation, 696 kB of additional disk space will be used.\n",
            "Get:1 http://archive.ubuntu.com/ubuntu jammy-updates/main amd64 poppler-utils amd64 22.02.0-2ubuntu0.3 [186 kB]\n",
            "Fetched 186 kB in 0s (393 kB/s)\n",
            "Selecting previously unselected package poppler-utils.\n",
            "(Reading database ... 121753 files and directories currently installed.)\n",
            "Preparing to unpack .../poppler-utils_22.02.0-2ubuntu0.3_amd64.deb ...\n",
            "Unpacking poppler-utils (22.02.0-2ubuntu0.3) ...\n",
            "Setting up poppler-utils (22.02.0-2ubuntu0.3) ...\n",
            "Processing triggers for man-db (2.10.2-1) ...\n"
          ]
        }
      ]
    },
    {
      "cell_type": "code",
      "source": [
        "from pdf2image import convert_from_path\n",
        "\n",
        "pdf_images = convert_from_path('example.pdf')\n",
        "\n",
        "for idx in range(len(pdf_images)):\n",
        "    pdf_images[idx].save('pdf_page_'+ str(idx+1) +'.png', 'PNG')\n",
        "print(\"Successfully converted PDF to images\")"
      ],
      "metadata": {
        "colab": {
          "base_uri": "https://localhost:8080/"
        },
        "id": "eZeYsIAEC6db",
        "outputId": "3f33c691-b3bd-4e67-ff82-7cdd6a3d41de"
      },
      "execution_count": 4,
      "outputs": [
        {
          "output_type": "stream",
          "name": "stdout",
          "text": [
            "Successfully converted PDF to images\n"
          ]
        }
      ]
    },
    {
      "cell_type": "code",
      "source": [
        "import numpy as np\n",
        "from PIL import Image"
      ],
      "metadata": {
        "id": "VyRjBDe-DZvI"
      },
      "execution_count": 5,
      "outputs": []
    },
    {
      "cell_type": "code",
      "source": [
        "def Encode(src, message, dest):\n",
        "\n",
        "    img = Image.open(src, 'r')\n",
        "    width, height = img.size\n",
        "    array = np.array(list(img.getdata()))\n",
        "\n",
        "    if img.mode == 'RGB':\n",
        "        n = 3\n",
        "    elif img.mode == 'RGBA':\n",
        "        n = 4\n",
        "    total_pixels = array.size//n\n",
        "\n",
        "    message += \"$t3g0\"\n",
        "    b_message = ''.join([format(ord(i), \"08b\") for i in message])\n",
        "    req_pixels = len(b_message)\n",
        "\n",
        "    if req_pixels > total_pixels:\n",
        "        print(\"ERROR: Need larger file size\")\n",
        "\n",
        "    else:\n",
        "        index=0\n",
        "        for p in range(total_pixels):\n",
        "            for q in range(0, 3):\n",
        "                if index < req_pixels:\n",
        "                    array[p][q] = int(bin(array[p][q])[2:9] + b_message[index], 2)\n",
        "                    index += 1\n",
        "\n",
        "        array=array.reshape(height, width, n)\n",
        "        enc_img = Image.fromarray(array.astype('uint8'), img.mode)\n",
        "        enc_img.save(dest)\n",
        "        print(\"Image Encoded Successfully\")"
      ],
      "metadata": {
        "id": "OXTreN9sDn4M"
      },
      "execution_count": 6,
      "outputs": []
    },
    {
      "cell_type": "code",
      "source": [
        "def Decode(src):\n",
        "\n",
        "    img = Image.open(src, 'r')\n",
        "    array = np.array(list(img.getdata()))\n",
        "\n",
        "    if img.mode == 'RGB':\n",
        "        n = 3\n",
        "    elif img.mode == 'RGBA':\n",
        "        n = 4\n",
        "    total_pixels = array.size//n\n",
        "\n",
        "    hidden_bits = \"\"\n",
        "    for p in range(total_pixels):\n",
        "        for q in range(0, 3):\n",
        "            hidden_bits += (bin(array[p][q])[2:][-1])\n",
        "\n",
        "    hidden_bits = [hidden_bits[i:i+8] for i in range(0, len(hidden_bits), 8)]\n",
        "\n",
        "    message = \"\"\n",
        "    for i in range(len(hidden_bits)):\n",
        "        if message[-5:] == \"$t3g0\":\n",
        "            break\n",
        "        else:\n",
        "            message += chr(int(hidden_bits[i], 2))\n",
        "    if \"$t3g0\" in message:\n",
        "        print(\"Hidden Message:\", message[:-5])\n",
        "    else:\n",
        "        print(\"No Hidden Message Found\")"
      ],
      "metadata": {
        "id": "4tHVkjjbDrkb"
      },
      "execution_count": 7,
      "outputs": []
    },
    {
      "cell_type": "code",
      "source": [
        "print(\"1: Encode\")\n",
        "print(\"2: Decode\")\n",
        "func = int(input(\"enter valid option:\"))\n",
        "if func == 1:\n",
        "    print(\"Enter Source Image Path\")\n",
        "    src = \"/content/pdf_page_1.png\"\n",
        "    print(\"Enter Message to Hide\")\n",
        "    message = \"danian\"\n",
        "    print(\"Enter Destination Image Path\")\n",
        "    dest = \"/content/pdf_page_1_encode.png\"\n",
        "    print(\"Encoding...\")\n",
        "    Encode(src, message, dest)\n",
        "elif func == 2:\n",
        "    print(\"Enter Source Image Path\")\n",
        "    src =  \"/content/pdf_page_1_encode.png\"\n",
        "    print(\"Decoding...\")\n",
        "    Decode(src)\n",
        "else:\n",
        "    print(\"ERROR: Invalid option chosen\")"
      ],
      "metadata": {
        "colab": {
          "base_uri": "https://localhost:8080/"
        },
        "id": "gM5Wifb4DvY0",
        "outputId": "d43c749b-2888-4aa5-a007-0c15cac2caa3"
      },
      "execution_count": 12,
      "outputs": [
        {
          "output_type": "stream",
          "name": "stdout",
          "text": [
            "1: Encode\n",
            "2: Decode\n",
            "enter valid option:2\n",
            "Enter Source Image Path\n",
            "Decoding...\n",
            "Hidden Message: danian\n"
          ]
        }
      ]
    }
  ]
}